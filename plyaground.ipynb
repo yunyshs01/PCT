{
 "cells": [
  {
   "cell_type": "code",
   "execution_count": 69,
   "metadata": {},
   "outputs": [],
   "source": [
    "import torch\n",
    "import numpy as np"
   ]
  },
  {
   "cell_type": "code",
   "execution_count": 2,
   "metadata": {},
   "outputs": [],
   "source": [
    "pth = torch.load(\"work_dirs/pct_base_coco/epoch_50.pth\")"
   ]
  },
  {
   "cell_type": "code",
   "execution_count": 3,
   "metadata": {},
   "outputs": [
    {
     "data": {
      "text/plain": [
       "dict_keys(['meta', 'state_dict', 'message_hub', 'optimizer', 'param_schedulers'])"
      ]
     },
     "execution_count": 3,
     "metadata": {},
     "output_type": "execute_result"
    }
   ],
   "source": [
    "pth.keys()"
   ]
  },
  {
   "cell_type": "code",
   "execution_count": 5,
   "metadata": {},
   "outputs": [
    {
     "data": {
      "text/plain": [
       "odict_keys(['tokenizer.invisible_token', 'tokenizer.start_embed.weight', 'tokenizer.start_embed.bias', 'tokenizer.encoder.0.layernorm1.weight', 'tokenizer.encoder.0.layernorm1.bias', 'tokenizer.encoder.0.MLP_token.ff.0.weight', 'tokenizer.encoder.0.MLP_token.ff.0.bias', 'tokenizer.encoder.0.MLP_token.ff.3.weight', 'tokenizer.encoder.0.MLP_token.ff.3.bias', 'tokenizer.encoder.0.layernorm2.weight', 'tokenizer.encoder.0.layernorm2.bias', 'tokenizer.encoder.0.MLP_channel.ff.0.weight', 'tokenizer.encoder.0.MLP_channel.ff.0.bias', 'tokenizer.encoder.0.MLP_channel.ff.3.weight', 'tokenizer.encoder.0.MLP_channel.ff.3.bias', 'tokenizer.encoder.1.layernorm1.weight', 'tokenizer.encoder.1.layernorm1.bias', 'tokenizer.encoder.1.MLP_token.ff.0.weight', 'tokenizer.encoder.1.MLP_token.ff.0.bias', 'tokenizer.encoder.1.MLP_token.ff.3.weight', 'tokenizer.encoder.1.MLP_token.ff.3.bias', 'tokenizer.encoder.1.layernorm2.weight', 'tokenizer.encoder.1.layernorm2.bias', 'tokenizer.encoder.1.MLP_channel.ff.0.weight', 'tokenizer.encoder.1.MLP_channel.ff.0.bias', 'tokenizer.encoder.1.MLP_channel.ff.3.weight', 'tokenizer.encoder.1.MLP_channel.ff.3.bias', 'tokenizer.encoder.2.layernorm1.weight', 'tokenizer.encoder.2.layernorm1.bias', 'tokenizer.encoder.2.MLP_token.ff.0.weight', 'tokenizer.encoder.2.MLP_token.ff.0.bias', 'tokenizer.encoder.2.MLP_token.ff.3.weight', 'tokenizer.encoder.2.MLP_token.ff.3.bias', 'tokenizer.encoder.2.layernorm2.weight', 'tokenizer.encoder.2.layernorm2.bias', 'tokenizer.encoder.2.MLP_channel.ff.0.weight', 'tokenizer.encoder.2.MLP_channel.ff.0.bias', 'tokenizer.encoder.2.MLP_channel.ff.3.weight', 'tokenizer.encoder.2.MLP_channel.ff.3.bias', 'tokenizer.encoder.3.layernorm1.weight', 'tokenizer.encoder.3.layernorm1.bias', 'tokenizer.encoder.3.MLP_token.ff.0.weight', 'tokenizer.encoder.3.MLP_token.ff.0.bias', 'tokenizer.encoder.3.MLP_token.ff.3.weight', 'tokenizer.encoder.3.MLP_token.ff.3.bias', 'tokenizer.encoder.3.layernorm2.weight', 'tokenizer.encoder.3.layernorm2.bias', 'tokenizer.encoder.3.MLP_channel.ff.0.weight', 'tokenizer.encoder.3.MLP_channel.ff.0.bias', 'tokenizer.encoder.3.MLP_channel.ff.3.weight', 'tokenizer.encoder.3.MLP_channel.ff.3.bias', 'tokenizer.encoder_layer_norm.weight', 'tokenizer.encoder_layer_norm.bias', 'tokenizer.token_mlp.weight', 'tokenizer.token_mlp.bias', 'tokenizer.feature_embed.weight', 'tokenizer.feature_embed.bias', 'tokenizer.decoder.codebook', 'tokenizer.decoder.ema_cluster_size', 'tokenizer.decoder.ema_w', 'tokenizer.decoder.token_mlp.weight', 'tokenizer.decoder.token_mlp.bias', 'tokenizer.decoder.decoder_start.weight', 'tokenizer.decoder.decoder_start.bias', 'tokenizer.decoder.decoder_layers.0.layernorm1.weight', 'tokenizer.decoder.decoder_layers.0.layernorm1.bias', 'tokenizer.decoder.decoder_layers.0.MLP_token.ff.0.weight', 'tokenizer.decoder.decoder_layers.0.MLP_token.ff.0.bias', 'tokenizer.decoder.decoder_layers.0.MLP_token.ff.3.weight', 'tokenizer.decoder.decoder_layers.0.MLP_token.ff.3.bias', 'tokenizer.decoder.decoder_layers.0.layernorm2.weight', 'tokenizer.decoder.decoder_layers.0.layernorm2.bias', 'tokenizer.decoder.decoder_layers.0.MLP_channel.ff.0.weight', 'tokenizer.decoder.decoder_layers.0.MLP_channel.ff.0.bias', 'tokenizer.decoder.decoder_layers.0.MLP_channel.ff.3.weight', 'tokenizer.decoder.decoder_layers.0.MLP_channel.ff.3.bias', 'tokenizer.decoder.layer_norm.weight', 'tokenizer.decoder.layer_norm.bias', 'tokenizer.decoder.recover_embed.weight', 'tokenizer.decoder.recover_embed.bias'])"
      ]
     },
     "execution_count": 5,
     "metadata": {},
     "output_type": "execute_result"
    }
   ],
   "source": [
    "pth['state_dict'].keys()"
   ]
  },
  {
   "cell_type": "code",
   "execution_count": 6,
   "metadata": {},
   "outputs": [
    {
     "data": {
      "text/plain": [
       "{'epoch': 50,\n",
       " 'iter': 3700,\n",
       " 'cfg': '_scope_ = \\'mmpose\\'\\nbackend_args = dict(backend=\\'local\\')\\nbase_lr = 0.01\\ncheckpoint_config = dict(create_symlink=False, interval=5)\\ncodec = dict(\\n    input_size=(\\n        256,\\n        256,\\n    ),\\n    normalize=True,\\n    sigma=(\\n        5.66,\\n        5.66,\\n    ),\\n    simcc_split_ratio=2.0,\\n    type=\\'SimCCLabel\\',\\n    use_dark=False)\\ncustom_hooks = [\\n    dict(type=\\'SyncBuffersHook\\'),\\n]\\ndata_mode = \\'topdown\\'\\ndata_root = \\'data/coco/\\'\\ndataset_info = dict(\\n    dataset_name=\\'coco\\',\\n    joint_weights=[\\n        1.0,\\n        1.0,\\n        1.0,\\n        1.0,\\n        1.0,\\n        1.0,\\n        1.0,\\n        1.2,\\n        1.2,\\n        1.5,\\n        1.5,\\n        1.0,\\n        1.0,\\n        1.2,\\n        1.2,\\n        1.5,\\n        1.5,\\n    ],\\n    keypoint_info=dict({\\n        0:\\n        dict(color=[\\n            51,\\n            153,\\n            255,\\n        ], id=0, name=\\'nose\\', swap=\\'\\', type=\\'upper\\'),\\n        1:\\n        dict(\\n            color=[\\n                51,\\n                153,\\n                255,\\n            ],\\n            id=1,\\n            name=\\'left_eye\\',\\n            swap=\\'right_eye\\',\\n            type=\\'upper\\'),\\n        10:\\n        dict(\\n            color=[\\n                255,\\n                128,\\n                0,\\n            ],\\n            id=10,\\n            name=\\'right_wrist\\',\\n            swap=\\'left_wrist\\',\\n            type=\\'upper\\'),\\n        11:\\n        dict(\\n            color=[\\n                0,\\n                255,\\n                0,\\n            ],\\n            id=11,\\n            name=\\'left_hip\\',\\n            swap=\\'right_hip\\',\\n            type=\\'lower\\'),\\n        12:\\n        dict(\\n            color=[\\n                255,\\n                128,\\n                0,\\n            ],\\n            id=12,\\n            name=\\'right_hip\\',\\n            swap=\\'left_hip\\',\\n            type=\\'lower\\'),\\n        13:\\n        dict(\\n            color=[\\n                0,\\n                255,\\n                0,\\n            ],\\n            id=13,\\n            name=\\'left_knee\\',\\n            swap=\\'right_knee\\',\\n            type=\\'lower\\'),\\n        14:\\n        dict(\\n            color=[\\n                255,\\n                128,\\n                0,\\n            ],\\n            id=14,\\n            name=\\'right_knee\\',\\n            swap=\\'left_knee\\',\\n            type=\\'lower\\'),\\n        15:\\n        dict(\\n            color=[\\n                0,\\n                255,\\n                0,\\n            ],\\n            id=15,\\n            name=\\'left_ankle\\',\\n            swap=\\'right_ankle\\',\\n            type=\\'lower\\'),\\n        16:\\n        dict(\\n            color=[\\n                255,\\n                128,\\n                0,\\n            ],\\n            id=16,\\n            name=\\'right_ankle\\',\\n            swap=\\'left_ankle\\',\\n            type=\\'lower\\'),\\n        2:\\n        dict(\\n            color=[\\n                51,\\n                153,\\n                255,\\n            ],\\n            id=2,\\n            name=\\'right_eye\\',\\n            swap=\\'left_eye\\',\\n            type=\\'upper\\'),\\n        3:\\n        dict(\\n            color=[\\n                51,\\n                153,\\n                255,\\n            ],\\n            id=3,\\n            name=\\'left_ear\\',\\n            swap=\\'right_ear\\',\\n            type=\\'upper\\'),\\n        4:\\n        dict(\\n            color=[\\n                51,\\n                153,\\n                255,\\n            ],\\n            id=4,\\n            name=\\'right_ear\\',\\n            swap=\\'left_ear\\',\\n            type=\\'upper\\'),\\n        5:\\n        dict(\\n            color=[\\n                0,\\n                255,\\n                0,\\n            ],\\n            id=5,\\n            name=\\'left_shoulder\\',\\n            swap=\\'right_shoulder\\',\\n            type=\\'upper\\'),\\n        6:\\n        dict(\\n            color=[\\n                255,\\n                128,\\n                0,\\n            ],\\n            id=6,\\n            name=\\'right_shoulder\\',\\n            swap=\\'left_shoulder\\',\\n            type=\\'upper\\'),\\n        7:\\n        dict(\\n            color=[\\n                0,\\n                255,\\n                0,\\n            ],\\n            id=7,\\n            name=\\'left_elbow\\',\\n            swap=\\'right_elbow\\',\\n            type=\\'upper\\'),\\n        8:\\n        dict(\\n            color=[\\n                255,\\n                128,\\n                0,\\n            ],\\n            id=8,\\n            name=\\'right_elbow\\',\\n            swap=\\'left_elbow\\',\\n            type=\\'upper\\'),\\n        9:\\n        dict(\\n            color=[\\n                0,\\n                255,\\n                0,\\n            ],\\n            id=9,\\n            name=\\'left_wrist\\',\\n            swap=\\'right_wrist\\',\\n            type=\\'upper\\')\\n    }),\\n    paper_info=dict(\\n        author=\\n        \"Lin, Tsung-Yi and Maire, Michael and Belongie, Serge and Hays, James and Perona, Pietro and Ramanan, Deva and Doll{\\\\\\\\\\'a}r, Piotr and Zitnick, C Lawrence\",\\n        container=\\'European conference on computer vision\\',\\n        homepage=\\'http://cocodataset.org/\\',\\n        title=\\'Microsoft coco: Common objects in context\\',\\n        year=\\'2014\\'),\\n    sigmas=[\\n        0.026,\\n        0.025,\\n        0.025,\\n        0.035,\\n        0.035,\\n        0.079,\\n        0.079,\\n        0.072,\\n        0.072,\\n        0.062,\\n        0.062,\\n        0.107,\\n        0.107,\\n        0.087,\\n        0.087,\\n        0.089,\\n        0.089,\\n    ],\\n    skeleton_info=dict({\\n        0:\\n        dict(color=[\\n            0,\\n            255,\\n            0,\\n        ], id=0, link=(\\n            \\'left_ankle\\',\\n            \\'left_knee\\',\\n        )),\\n        1:\\n        dict(color=[\\n            0,\\n            255,\\n            0,\\n        ], id=1, link=(\\n            \\'left_knee\\',\\n            \\'left_hip\\',\\n        )),\\n        10:\\n        dict(color=[\\n            0,\\n            255,\\n            0,\\n        ], id=10, link=(\\n            \\'left_elbow\\',\\n            \\'left_wrist\\',\\n        )),\\n        11:\\n        dict(\\n            color=[\\n                255,\\n                128,\\n                0,\\n            ],\\n            id=11,\\n            link=(\\n                \\'right_elbow\\',\\n                \\'right_wrist\\',\\n            )),\\n        12:\\n        dict(color=[\\n            51,\\n            153,\\n            255,\\n        ], id=12, link=(\\n            \\'left_eye\\',\\n            \\'right_eye\\',\\n        )),\\n        13:\\n        dict(color=[\\n            51,\\n            153,\\n            255,\\n        ], id=13, link=(\\n            \\'nose\\',\\n            \\'left_eye\\',\\n        )),\\n        14:\\n        dict(color=[\\n            51,\\n            153,\\n            255,\\n        ], id=14, link=(\\n            \\'nose\\',\\n            \\'right_eye\\',\\n        )),\\n        15:\\n        dict(color=[\\n            51,\\n            153,\\n            255,\\n        ], id=15, link=(\\n            \\'left_eye\\',\\n            \\'left_ear\\',\\n        )),\\n        16:\\n        dict(color=[\\n            51,\\n            153,\\n            255,\\n        ], id=16, link=(\\n            \\'right_eye\\',\\n            \\'right_ear\\',\\n        )),\\n        17:\\n        dict(\\n            color=[\\n                51,\\n                153,\\n                255,\\n            ],\\n            id=17,\\n            link=(\\n                \\'left_ear\\',\\n                \\'left_shoulder\\',\\n            )),\\n        18:\\n        dict(\\n            color=[\\n                51,\\n                153,\\n                255,\\n            ],\\n            id=18,\\n            link=(\\n                \\'right_ear\\',\\n                \\'right_shoulder\\',\\n            )),\\n        2:\\n        dict(\\n            color=[\\n                255,\\n                128,\\n                0,\\n            ], id=2, link=(\\n                \\'right_ankle\\',\\n                \\'right_knee\\',\\n            )),\\n        3:\\n        dict(color=[\\n            255,\\n            128,\\n            0,\\n        ], id=3, link=(\\n            \\'right_knee\\',\\n            \\'right_hip\\',\\n        )),\\n        4:\\n        dict(color=[\\n            51,\\n            153,\\n            255,\\n        ], id=4, link=(\\n            \\'left_hip\\',\\n            \\'right_hip\\',\\n        )),\\n        5:\\n        dict(\\n            color=[\\n                51,\\n                153,\\n                255,\\n            ], id=5, link=(\\n                \\'left_shoulder\\',\\n                \\'left_hip\\',\\n            )),\\n        6:\\n        dict(\\n            color=[\\n                51,\\n                153,\\n                255,\\n            ],\\n            id=6,\\n            link=(\\n                \\'right_shoulder\\',\\n                \\'right_hip\\',\\n            )),\\n        7:\\n        dict(\\n            color=[\\n                51,\\n                153,\\n                255,\\n            ],\\n            id=7,\\n            link=(\\n                \\'left_shoulder\\',\\n                \\'right_shoulder\\',\\n            )),\\n        8:\\n        dict(\\n            color=[\\n                0,\\n                255,\\n                0,\\n            ], id=8, link=(\\n                \\'left_shoulder\\',\\n                \\'left_elbow\\',\\n            )),\\n        9:\\n        dict(\\n            color=[\\n                255,\\n                128,\\n                0,\\n            ],\\n            id=9,\\n            link=(\\n                \\'right_shoulder\\',\\n                \\'right_elbow\\',\\n            ))\\n    }))\\ndataset_type = \\'CocoDataset\\'\\ndefault_hooks = dict(\\n    badcase=dict(\\n        badcase_thr=5,\\n        enable=False,\\n        metric_type=\\'loss\\',\\n        out_dir=\\'badcase\\',\\n        type=\\'BadCaseAnalysisHook\\'),\\n    checkpoint=dict(interval=5, type=\\'CheckpointHook\\'),\\n    logger=dict(interval=10, type=\\'LoggerHook\\'),\\n    param_scheduler=dict(type=\\'ParamSchedulerHook\\'),\\n    sampler_seed=dict(type=\\'DistSamplerSeedHook\\'),\\n    timer=dict(type=\\'IterTimerHook\\'),\\n    visualization=dict(enable=False, type=\\'PoseVisualizationHook\\'))\\ndefault_scope = \\'mmpose\\'\\nenv_cfg = dict(\\n    cudnn_benchmark=False,\\n    dist_cfg=dict(backend=\\'nccl\\'),\\n    mp_cfg=dict(mp_start_method=\\'fork\\', opencv_num_threads=0))\\nevaluation = dict(interval=5, metric=\\'mAP\\', save_best=\\'AP\\')\\nfind_unused_parameters = False\\nlauncher = \\'pytorch\\'\\nload_from = None\\nlog_level = \\'INFO\\'\\nlog_processor = dict(\\n    by_epoch=True, num_digits=6, type=\\'LogProcessor\\', window_size=50)\\nmax_epochs = 50\\nmodel = dict(\\n    backbone=dict(\\n        ape=False,\\n        attn_type=\\'cosine_mh\\',\\n        depths=[\\n            2,\\n            2,\\n            18,\\n            2,\\n        ],\\n        drop_path_rate=0.3,\\n        embed_dim=128,\\n        frozen_stages=5,\\n        mlp_type=\\'normal\\',\\n        num_heads=[\\n            4,\\n            8,\\n            16,\\n            32,\\n        ],\\n        out_indices=(3, ),\\n        patch_embed_type=\\'normal\\',\\n        patch_merge_type=\\'normal\\',\\n        patch_norm=True,\\n        postnorm=True,\\n        pretrain_window_size=[\\n            12,\\n            12,\\n            12,\\n            6,\\n        ],\\n        relative_coords_table_type=\\'norm8_log_bylayer\\',\\n        rpe_interpolation=\\'geo\\',\\n        rpe_output_type=\\'sigmoid\\',\\n        strid16=False,\\n        type=\\'SwinV2TransformerRPE2FC\\',\\n        use_checkpoint=True,\\n        use_shift=[\\n            True,\\n            True,\\n            False,\\n            False,\\n        ],\\n        window_size=[\\n            16,\\n            16,\\n            16,\\n            8,\\n        ]),\\n    data_preprocessor=dict(\\n        _scope_=\\'mmpose\\',\\n        bgr_to_rgb=True,\\n        mean=[\\n            0.485,\\n            0.456,\\n            0.406,\\n        ],\\n        std=[\\n            0.229,\\n            0.224,\\n            0.225,\\n        ],\\n        type=\\'PoseDataPreprocessor\\'),\\n    head=dict(\\n        image_size=(\\n            256,\\n            256,\\n        ),\\n        in_channels=1024,\\n        num_joints=17,\\n        stage_pct=\\'tokenizer\\',\\n        tokenizer=dict(\\n            codebook=dict(\\n                ema_decay=0.9,\\n                token_class_num=4096,\\n                token_dim=512,\\n                token_num=34),\\n            decoder=dict(\\n                dropout=0.0,\\n                hidden_dim=32,\\n                hidden_inter_dim=64,\\n                num_blocks=1,\\n                token_inter_dim=64),\\n            encoder=dict(\\n                drop_rate=0.2,\\n                dropout=0.0,\\n                hidden_dim=512,\\n                hidden_inter_dim=512,\\n                num_blocks=4,\\n                token_inter_dim=64),\\n            loss_keypoint=dict(\\n                beta=0.05,\\n                e_loss_w=15.0,\\n                joint_loss_w=1.0,\\n                type=\\'Tokenizer_loss\\')),\\n        type=\\'Tokenizer\\'),\\n    test_cfg=dict(dataset_name=\\'COC\\', flip_test=False),\\n    type=\\'PCT\\')\\noptim_wrapper = dict(\\n    optimizer=dict(lr=0.01, type=\\'AdamW\\', weight_decay=0.05),\\n    type=\\'OptimWrapper\\')\\nparam_scheduler = [\\n    dict(\\n        begin=0, by_epoch=False, end=100, start_factor=1e-05, type=\\'LinearLR\\'),\\n    dict(by_epoch=True, eta_min=0.0001, type=\\'CosineAnnealingLR\\'),\\n]\\nrandomness = dict(seed=21)\\nresume = False\\nscope = \\'mmpose\\'\\ntest_cfg = dict()\\ntest_dataloader = dict(\\n    batch_size=1024,\\n    dataset=dict(\\n        ann_file=\\'annotations/person_keypoints_val2017.json\\',\\n        data_prefix=dict(img=\\'images/val2017/\\'),\\n        data_root=\\'data/coco/\\',\\n        metainfo=dict(from_file=\\'configs/coco.py\\'),\\n        pipeline=[\\n            dict(backend_args=dict(backend=\\'local\\'), type=\\'LoadImage\\'),\\n            dict(type=\\'GetBBoxCenterScale\\'),\\n            dict(input_size=(\\n                256,\\n                256,\\n            ), type=\\'TopdownAffine\\', use_udp=True),\\n            dict(pack_transformed=True, type=\\'PackPoseInputs\\'),\\n        ],\\n        test_mode=True,\\n        type=\\'CocoDataset\\'),\\n    drop_last=False,\\n    num_workers=4)\\ntest_evaluator = dict(\\n    ann_file=\\'data/coco//annotations/person_keypoints_val2017.json\\',\\n    type=\\'CocoMetric\\',\\n    use_area=True)\\ntest_pipeline = [\\n    dict(backend_args=dict(backend=\\'local\\'), type=\\'LoadImage\\'),\\n    dict(type=\\'GetBBoxCenterScale\\'),\\n    dict(input_size=(\\n        256,\\n        256,\\n    ), type=\\'TopdownAffine\\', use_udp=True),\\n    dict(pack_transformed=True, type=\\'PackPoseInputs\\'),\\n]\\ntrain_cfg = dict(by_epoch=True, max_epochs=50, val_interval=5)\\ntrain_dataloader = dict(\\n    batch_size=1024,\\n    dataset=dict(\\n        ann_file=\\'annotations/person_keypoints_train2017.json\\',\\n        data_prefix=dict(img=\\'images/train2017/\\'),\\n        data_root=\\'data/coco/\\',\\n        metainfo=dict(from_file=\\'configs/coco.py\\'),\\n        pipeline=[\\n            dict(type=\\'GetBBoxCenterScale\\'),\\n            dict(\\n                encoder=dict(\\n                    input_size=(\\n                        256,\\n                        256,\\n                    ),\\n                    normalize=True,\\n                    sigma=(\\n                        5.66,\\n                        5.66,\\n                    ),\\n                    simcc_split_ratio=2.0,\\n                    type=\\'SimCCLabel\\',\\n                    use_dark=False),\\n                type=\\'GenerateTarget\\'),\\n            dict(pack_transformed=True, type=\\'PackPoseInputsWoImage\\'),\\n        ],\\n        type=\\'CocoDataset\\'),\\n    num_workers=8,\\n    pin_memory=True,\\n    sampler=dict(shuffle=True, type=\\'DefaultSampler\\'))\\ntrain_pipeline = [\\n    dict(type=\\'GetBBoxCenterScale\\'),\\n    dict(\\n        encoder=dict(\\n            input_size=(\\n                256,\\n                256,\\n            ),\\n            normalize=True,\\n            sigma=(\\n                5.66,\\n                5.66,\\n            ),\\n            simcc_split_ratio=2.0,\\n            type=\\'SimCCLabel\\',\\n            use_dark=False),\\n        type=\\'GenerateTarget\\'),\\n    dict(pack_transformed=True, type=\\'PackPoseInputsWoImage\\'),\\n]\\nval_cfg = dict()\\nval_dataloader = dict(\\n    batch_size=1024,\\n    dataset=dict(\\n        ann_file=\\'annotations/person_keypoints_val2017.json\\',\\n        data_prefix=dict(img=\\'images/val2017/\\'),\\n        data_root=\\'data/coco/\\',\\n        metainfo=dict(from_file=\\'configs/coco.py\\'),\\n        pipeline=[\\n            dict(backend_args=dict(backend=\\'local\\'), type=\\'LoadImage\\'),\\n            dict(type=\\'GetBBoxCenterScale\\'),\\n            dict(input_size=(\\n                256,\\n                256,\\n            ), type=\\'TopdownAffine\\', use_udp=True),\\n            dict(pack_transformed=True, type=\\'PackPoseInputs\\'),\\n        ],\\n        test_mode=True,\\n        type=\\'CocoDataset\\'),\\n    drop_last=False,\\n    num_workers=8,\\n    pin_memory=True,\\n    sampler=dict(round_up=False, shuffle=False, type=\\'DefaultSampler\\'))\\nval_evaluator = dict(\\n    ann_file=\\'data/coco//annotations/person_keypoints_val2017.json\\',\\n    type=\\'CocoMetric\\',\\n    use_area=True)\\nval_pipeline = [\\n    dict(backend_args=dict(backend=\\'local\\'), type=\\'LoadImage\\'),\\n    dict(type=\\'GetBBoxCenterScale\\'),\\n    dict(input_size=(\\n        256,\\n        256,\\n    ), type=\\'TopdownAffine\\', use_udp=True),\\n    dict(pack_transformed=True, type=\\'PackPoseInputs\\'),\\n]\\nvis_backends = [\\n    dict(type=\\'LocalVisBackend\\'),\\n    dict(type=\\'TensorboardVisBackend\\'),\\n    dict(type=\\'WandbVisBackend\\'),\\n]\\nvisualizer = dict(\\n    name=\\'visualizer\\',\\n    type=\\'PoseLocalVisualizer\\',\\n    vis_backends=[\\n        dict(type=\\'LocalVisBackend\\'),\\n        dict(type=\\'TensorboardVisBackend\\'),\\n        dict(type=\\'WandbVisBackend\\'),\\n    ])\\nwork_dir = \\'./work_dirs/pct_base_coco\\'\\n',\n",
       " 'seed': 21,\n",
       " 'experiment_name': 'pct_base_coco_20240719_113828',\n",
       " 'time': '20240719_125821',\n",
       " 'mmengine_version': '0.10.4779c7780ed7bafe8287ac32698b8f498c6ac0e5a',\n",
       " 'dataset_meta': {'dataset_name': 'coco',\n",
       "  'num_keypoints': 17,\n",
       "  'keypoint_id2name': {0: 'nose',\n",
       "   1: 'left_eye',\n",
       "   2: 'right_eye',\n",
       "   3: 'left_ear',\n",
       "   4: 'right_ear',\n",
       "   5: 'left_shoulder',\n",
       "   6: 'right_shoulder',\n",
       "   7: 'left_elbow',\n",
       "   8: 'right_elbow',\n",
       "   9: 'left_wrist',\n",
       "   10: 'right_wrist',\n",
       "   11: 'left_hip',\n",
       "   12: 'right_hip',\n",
       "   13: 'left_knee',\n",
       "   14: 'right_knee',\n",
       "   15: 'left_ankle',\n",
       "   16: 'right_ankle'},\n",
       "  'keypoint_name2id': {'nose': 0,\n",
       "   'left_eye': 1,\n",
       "   'right_eye': 2,\n",
       "   'left_ear': 3,\n",
       "   'right_ear': 4,\n",
       "   'left_shoulder': 5,\n",
       "   'right_shoulder': 6,\n",
       "   'left_elbow': 7,\n",
       "   'right_elbow': 8,\n",
       "   'left_wrist': 9,\n",
       "   'right_wrist': 10,\n",
       "   'left_hip': 11,\n",
       "   'right_hip': 12,\n",
       "   'left_knee': 13,\n",
       "   'right_knee': 14,\n",
       "   'left_ankle': 15,\n",
       "   'right_ankle': 16},\n",
       "  'upper_body_ids': [0, 1, 2, 3, 4, 5, 6, 7, 8, 9, 10],\n",
       "  'lower_body_ids': [11, 12, 13, 14, 15, 16],\n",
       "  'flip_indices': [0, 2, 1, 4, 3, 6, 5, 8, 7, 10, 9, 12, 11, 14, 13, 16, 15],\n",
       "  'flip_pairs': [(2, 1),\n",
       "   (1, 2),\n",
       "   (4, 3),\n",
       "   (3, 4),\n",
       "   (6, 5),\n",
       "   (5, 6),\n",
       "   (8, 7),\n",
       "   (7, 8),\n",
       "   (10, 9),\n",
       "   (9, 10),\n",
       "   (12, 11),\n",
       "   (11, 12),\n",
       "   (14, 13),\n",
       "   (13, 14),\n",
       "   (16, 15),\n",
       "   (15, 16)],\n",
       "  'keypoint_colors': array([[ 51, 153, 255],\n",
       "         [ 51, 153, 255],\n",
       "         [ 51, 153, 255],\n",
       "         [ 51, 153, 255],\n",
       "         [ 51, 153, 255],\n",
       "         [  0, 255,   0],\n",
       "         [255, 128,   0],\n",
       "         [  0, 255,   0],\n",
       "         [255, 128,   0],\n",
       "         [  0, 255,   0],\n",
       "         [255, 128,   0],\n",
       "         [  0, 255,   0],\n",
       "         [255, 128,   0],\n",
       "         [  0, 255,   0],\n",
       "         [255, 128,   0],\n",
       "         [  0, 255,   0],\n",
       "         [255, 128,   0]], dtype=uint8),\n",
       "  'num_skeleton_links': 19,\n",
       "  'skeleton_links': [(15, 13),\n",
       "   (13, 11),\n",
       "   (16, 14),\n",
       "   (14, 12),\n",
       "   (11, 12),\n",
       "   (5, 11),\n",
       "   (6, 12),\n",
       "   (5, 6),\n",
       "   (5, 7),\n",
       "   (6, 8),\n",
       "   (7, 9),\n",
       "   (8, 10),\n",
       "   (1, 2),\n",
       "   (0, 1),\n",
       "   (0, 2),\n",
       "   (1, 3),\n",
       "   (2, 4),\n",
       "   (3, 5),\n",
       "   (4, 6)],\n",
       "  'skeleton_link_colors': array([[  0, 255,   0],\n",
       "         [  0, 255,   0],\n",
       "         [255, 128,   0],\n",
       "         [255, 128,   0],\n",
       "         [ 51, 153, 255],\n",
       "         [ 51, 153, 255],\n",
       "         [ 51, 153, 255],\n",
       "         [ 51, 153, 255],\n",
       "         [  0, 255,   0],\n",
       "         [255, 128,   0],\n",
       "         [  0, 255,   0],\n",
       "         [255, 128,   0],\n",
       "         [ 51, 153, 255],\n",
       "         [ 51, 153, 255],\n",
       "         [ 51, 153, 255],\n",
       "         [ 51, 153, 255],\n",
       "         [ 51, 153, 255],\n",
       "         [ 51, 153, 255],\n",
       "         [ 51, 153, 255]], dtype=uint8),\n",
       "  'dataset_keypoint_weights': array([1. , 1. , 1. , 1. , 1. , 1. , 1. , 1.2, 1.2, 1.5, 1.5, 1. , 1. ,\n",
       "         1.2, 1.2, 1.5, 1.5], dtype=float32),\n",
       "  'sigmas': array([0.026, 0.025, 0.025, 0.035, 0.035, 0.079, 0.079, 0.072, 0.072,\n",
       "         0.062, 0.062, 0.107, 0.107, 0.087, 0.087, 0.089, 0.089],\n",
       "        dtype=float32),\n",
       "  'CLASSES': [{'supercategory': 'person',\n",
       "    'id': 1,\n",
       "    'name': 'person',\n",
       "    'keypoints': ['nose',\n",
       "     'left_eye',\n",
       "     'right_eye',\n",
       "     'left_ear',\n",
       "     'right_ear',\n",
       "     'left_shoulder',\n",
       "     'right_shoulder',\n",
       "     'left_elbow',\n",
       "     'right_elbow',\n",
       "     'left_wrist',\n",
       "     'right_wrist',\n",
       "     'left_hip',\n",
       "     'right_hip',\n",
       "     'left_knee',\n",
       "     'right_knee',\n",
       "     'left_ankle',\n",
       "     'right_ankle'],\n",
       "    'skeleton': [[16, 14],\n",
       "     [14, 12],\n",
       "     [17, 15],\n",
       "     [15, 13],\n",
       "     [12, 13],\n",
       "     [6, 12],\n",
       "     [7, 13],\n",
       "     [6, 7],\n",
       "     [6, 8],\n",
       "     [7, 9],\n",
       "     [8, 10],\n",
       "     [9, 11],\n",
       "     [2, 3],\n",
       "     [1, 2],\n",
       "     [1, 3],\n",
       "     [2, 4],\n",
       "     [3, 5],\n",
       "     [4, 6],\n",
       "     [5, 7]]}]}}"
      ]
     },
     "execution_count": 6,
     "metadata": {},
     "output_type": "execute_result"
    }
   ],
   "source": [
    "pth['meta']"
   ]
  },
  {
   "cell_type": "code",
   "execution_count": 69,
   "metadata": {},
   "outputs": [],
   "source": [
    "import numpy as np"
   ]
  },
  {
   "cell_type": "code",
   "execution_count": 70,
   "metadata": {},
   "outputs": [],
   "source": [
    "dat = np.load(\"dat.npz\", allow_pickle=True )"
   ]
  },
  {
   "cell_type": "code",
   "execution_count": 71,
   "metadata": {},
   "outputs": [
    {
     "data": {
      "text/plain": [
       "KeysView(NpzFile 'dat.npz' with keys: arr_0)"
      ]
     },
     "execution_count": 71,
     "metadata": {},
     "output_type": "execute_result"
    }
   ],
   "source": [
    "dat.keys()"
   ]
  },
  {
   "cell_type": "code",
   "execution_count": 72,
   "metadata": {},
   "outputs": [],
   "source": [
    "dat = dat['arr_0'].item()"
   ]
  },
  {
   "cell_type": "code",
   "execution_count": 73,
   "metadata": {},
   "outputs": [
    {
     "data": {
      "text/plain": [
       "dict_keys(['inputs', 'data_samples'])"
      ]
     },
     "execution_count": 73,
     "metadata": {},
     "output_type": "execute_result"
    }
   ],
   "source": [
    "dat.keys()"
   ]
  },
  {
   "cell_type": "code",
   "execution_count": 74,
   "metadata": {},
   "outputs": [
    {
     "data": {
      "text/plain": [
       "['gt_instances', 'gt_instance_labels']"
      ]
     },
     "execution_count": 74,
     "metadata": {},
     "output_type": "execute_result"
    }
   ],
   "source": [
    "dat['data_samples'][0].keys()"
   ]
  },
  {
   "cell_type": "code",
   "execution_count": 75,
   "metadata": {},
   "outputs": [],
   "source": [
    "gt_instances = dat['data_samples'][0].gt_instances"
   ]
  },
  {
   "cell_type": "code",
   "execution_count": 76,
   "metadata": {},
   "outputs": [
    {
     "data": {
      "text/plain": [
       "['bbox_scores',\n",
       " 'keypoints',\n",
       " 'bboxes',\n",
       " 'keypoints_visible',\n",
       " 'bbox_scales',\n",
       " 'transformed_keypoints']"
      ]
     },
     "execution_count": 76,
     "metadata": {},
     "output_type": "execute_result"
    }
   ],
   "source": [
    "gt_instances.all_keys()"
   ]
  },
  {
   "cell_type": "code",
   "execution_count": 77,
   "metadata": {},
   "outputs": [
    {
     "data": {
      "text/plain": [
       "torch.Size([1, 3, 224, 224])"
      ]
     },
     "execution_count": 77,
     "metadata": {},
     "output_type": "execute_result"
    }
   ],
   "source": [
    "dat['inputs'].shape"
   ]
  },
  {
   "cell_type": "code",
   "execution_count": 78,
   "metadata": {},
   "outputs": [
    {
     "data": {
      "text/plain": [
       "['img_shape',\n",
       " 'id',\n",
       " 'dataset_name',\n",
       " 'input_center',\n",
       " 'ori_shape',\n",
       " 'flip_indices',\n",
       " 'img_path',\n",
       " 'input_scale',\n",
       " 'category_id',\n",
       " 'input_size',\n",
       " 'raw_ann_info',\n",
       " 'img_id',\n",
       " 'gt_instances',\n",
       " 'gt_instance_labels']"
      ]
     },
     "execution_count": 78,
     "metadata": {},
     "output_type": "execute_result"
    }
   ],
   "source": [
    "(dat['data_samples'][0].all_keys())"
   ]
  },
  {
   "cell_type": "code",
   "execution_count": 81,
   "metadata": {},
   "outputs": [
    {
     "data": {
      "text/plain": [
       "30945"
      ]
     },
     "execution_count": 81,
     "metadata": {},
     "output_type": "execute_result"
    }
   ],
   "source": [
    "dat['data_samples'][0]."
   ]
  },
  {
   "cell_type": "code",
   "execution_count": 79,
   "metadata": {},
   "outputs": [
    {
     "data": {
      "text/plain": [
       "torch.Size([1, 17, 448])"
      ]
     },
     "execution_count": 79,
     "metadata": {},
     "output_type": "execute_result"
    }
   ],
   "source": [
    "dat['data_samples'][0].gt_instance_labels['keypoint_x_labels'].shape"
   ]
  },
  {
   "cell_type": "code",
   "execution_count": 80,
   "metadata": {},
   "outputs": [
    {
     "data": {
      "text/plain": [
       "array([[0., 1., 1., 1., 1., 0., 0., 0., 1., 1., 1., 0., 0., 0., 1., 1.,\n",
       "        0.]], dtype=float32)"
      ]
     },
     "execution_count": 80,
     "metadata": {},
     "output_type": "execute_result"
    }
   ],
   "source": [
    "dat['data_samples'][0].gt_instances['keypoints_visible']"
   ]
  },
  {
   "cell_type": "code",
   "execution_count": 55,
   "metadata": {},
   "outputs": [],
   "source": [
    "ds1 = dat['data_samples'][0]"
   ]
  },
  {
   "cell_type": "code",
   "execution_count": 56,
   "metadata": {},
   "outputs": [
    {
     "data": {
      "text/plain": [
       "<InstanceData(\n",
       "\n",
       "    META INFORMATION\n",
       "\n",
       "    DATA FIELDS\n",
       "    bbox_scores: array([1.], dtype=float32)\n",
       "    keypoints: array([[[   0.     ,    0.     ],\n",
       "                [1077.2152 ,  375.68353],\n",
       "                [1105.0632 ,  411.1266 ],\n",
       "                [ 987.3418 ,  390.8734 ],\n",
       "                [ 710.1266 ,  535.1772 ],\n",
       "                [   0.     ,    0.     ],\n",
       "                [   0.     ,    0.     ],\n",
       "                [   0.     ,    0.     ],\n",
       "                [ 983.5443 ,  428.8481 ],\n",
       "                [1000.     ,  483.27847],\n",
       "                [1096.2025 ,  450.3671 ],\n",
       "                [   0.     ,    0.     ],\n",
       "                [   0.     ,    0.     ],\n",
       "                [   0.     ,    0.     ],\n",
       "                [ 762.0253 ,  568.0886 ],\n",
       "                [ 734.1772 ,  630.11395],\n",
       "                [   0.     ,    0.     ]]], dtype=float32)\n",
       "    bboxes: array([[ 527.2857 ,  326.2857 , 1147.1489 ,  725.05066]], dtype=float32)\n",
       "    keypoints_visible: array([[0., 1., 1., 1., 1., 0., 0., 0., 1., 1., 1., 0., 0., 0., 1., 1.,\n",
       "                0.]], dtype=float32)\n",
       "    bbox_scales: array([[1433.9362, 1433.9362]], dtype=float32)\n",
       "    transformed_keypoints: array([[[-59.701347 ,   4.3788705],\n",
       "                [107.82284  ,  62.803665 ],\n",
       "                [112.15365  ,  68.31563  ],\n",
       "                [ 93.846085 ,  65.16593  ],\n",
       "                [ 50.734688 ,  87.607475 ],\n",
       "                [-59.701347 ,   4.3788705],\n",
       "                [-59.701347 ,   4.3788705],\n",
       "                [-59.701347 ,   4.3788705],\n",
       "                [ 93.255516 ,  71.07161  ],\n",
       "                [ 95.81464  ,  79.5364   ],\n",
       "                [110.775665 ,  74.41815  ],\n",
       "                [-59.701347 ,   4.3788705],\n",
       "                [-59.701347 ,   4.3788705],\n",
       "                [-59.701347 ,   4.3788705],\n",
       "                [ 58.80577  ,  92.72573  ],\n",
       "                [ 54.47494  , 102.37166  ],\n",
       "                [-59.701347 ,   4.3788705]]], dtype=float32)\n",
       ") at 0x7ff8501ba620>"
      ]
     },
     "execution_count": 56,
     "metadata": {},
     "output_type": "execute_result"
    }
   ],
   "source": [
    "ds1.gt_instances"
   ]
  },
  {
   "cell_type": "code",
   "execution_count": 17,
   "metadata": {},
   "outputs": [
    {
     "data": {
      "text/plain": [
       "array([[   0.        ,    0.        ,    0.        ],\n",
       "       [1077.21518987,  375.6835443 ,    2.        ],\n",
       "       [1105.06329114,  411.12658228,    2.        ],\n",
       "       [ 987.34177215,  390.87341772,    2.        ],\n",
       "       [ 710.12658228,  535.17721519,    2.        ],\n",
       "       [   0.        ,    0.        ,    0.        ],\n",
       "       [   0.        ,    0.        ,    0.        ],\n",
       "       [   0.        ,    0.        ,    0.        ],\n",
       "       [ 983.5443038 ,  428.84810127,    2.        ],\n",
       "       [1000.        ,  483.27848101,    2.        ],\n",
       "       [1096.20253165,  450.36708861,    2.        ],\n",
       "       [   0.        ,    0.        ,    0.        ],\n",
       "       [   0.        ,    0.        ,    0.        ],\n",
       "       [   0.        ,    0.        ,    0.        ],\n",
       "       [ 762.02531646,  568.08860759,    2.        ],\n",
       "       [ 734.17721519,  630.11392405,    2.        ],\n",
       "       [   0.        ,    0.        ,    0.        ]])"
      ]
     },
     "execution_count": 17,
     "metadata": {},
     "output_type": "execute_result"
    }
   ],
   "source": [
    "np.array(ds1.raw_ann_info['keypoints']).reshape(17,3)"
   ]
  },
  {
   "cell_type": "code",
   "execution_count": 51,
   "metadata": {},
   "outputs": [
    {
     "data": {
      "text/plain": [
       "((1080, 1920), array([559.33276, 458.4811 ], dtype=float32))"
      ]
     },
     "execution_count": 51,
     "metadata": {},
     "output_type": "execute_result"
    }
   ],
   "source": [
    "ds1.img_shape, ds1.input_center"
   ]
  },
  {
   "cell_type": "code",
   "execution_count": 62,
   "metadata": {},
   "outputs": [
    {
     "data": {
      "text/plain": [
       "'[`keypoint_weights`, `keypoint_x_labels`, `keypoint_y_labels`]'"
      ]
     },
     "execution_count": 62,
     "metadata": {},
     "output_type": "execute_result"
    }
   ],
   "source": [
    "repr(ds1.gt_instance_labels.all_keys()).replace(\"'\",\"`\")"
   ]
  },
  {
   "cell_type": "code",
   "execution_count": 59,
   "metadata": {},
   "outputs": [],
   "source": [
    "import matplotlib.pyplot as plt\n"
   ]
  },
  {
   "cell_type": "code",
   "execution_count": 60,
   "metadata": {},
   "outputs": [
    {
     "data": {
      "text/plain": [
       "[<matplotlib.lines.Line2D at 0x7ff80aaf04f0>]"
      ]
     },
     "execution_count": 60,
     "metadata": {},
     "output_type": "execute_result"
    },
    {
     "data": {
      "image/png": "[encoded data removed]",
      "text/plain": [
       "<Figure size 640x480 with 1 Axes>"
      ]
     },
     "metadata": {},
     "output_type": "display_data"
    }
   ],
   "source": [
    "\n",
    "plt.plot(*ds1.gt_instances.keypoints[0].T, '.')\n",
    "plt.plot(*ds1.gt_instances.transformed_keypoints[0].T, '.')"
   ]
  },
  {
   "cell_type": "code",
   "execution_count": 59,
   "metadata": {},
   "outputs": [
    {
     "data": {
      "text/plain": [
       "[<matplotlib.lines.Line2D at 0x7dcc38bfba90>]"
      ]
     },
     "execution_count": 59,
     "metadata": {},
     "output_type": "execute_result"
    },
    {
     "data": {
      "image/png": "[encoded data removed]",
      "text/plain": [
       "<Figure size 640x480 with 1 Axes>"
      ]
     },
     "metadata": {},
     "output_type": "display_data"
    }
   ],
   "source": [
    "plt.plot(*(np.array(ds1.raw_ann_info['keypoints']).reshape(17,3)[:,:2].T), '.')"
   ]
  },
  {
   "cell_type": "code",
   "execution_count": 86,
   "metadata": {},
   "outputs": [
    {
     "name": "stdout",
     "output_type": "stream",
     "text": [
      "[559.33276 458.4811 ]\n",
      "(224, 224)\n",
      "[608.13104 608.13104]\n"
     ]
    }
   ],
   "source": [
    "print(ds1.input_center)\n",
    "print(ds1.input_size)\n",
    "print(ds1.input_scale)"
   ]
  },
  {
   "cell_type": "code",
   "execution_count": 87,
   "metadata": {},
   "outputs": [
    {
     "data": {
      "text/plain": [
       "array([863.3983 , 762.54663], dtype=float32)"
      ]
     },
     "execution_count": 87,
     "metadata": {},
     "output_type": "execute_result"
    }
   ],
   "source": [
    "np.array(ds1.input_center) + 0.5 * np.array(ds1.input_scale)"
   ]
  },
  {
   "cell_type": "code",
   "execution_count": 88,
   "metadata": {},
   "outputs": [
    {
     "data": {
      "text/plain": [
       "array([255.26724, 154.41559], dtype=float32)"
      ]
     },
     "execution_count": 88,
     "metadata": {},
     "output_type": "execute_result"
    }
   ],
   "source": [
    "np.array(ds1.input_center) - 0.5 * np.array(ds1.input_scale)"
   ]
  },
  {
   "cell_type": "code",
   "execution_count": 85,
   "metadata": {},
   "outputs": [],
   "source": [
    "heatmaps = np.load(\"heatmaps.npy\")"
   ]
  },
  {
   "cell_type": "code",
   "execution_count": 86,
   "metadata": {},
   "outputs": [
    {
     "data": {
      "text/plain": [
       "(17, 64, 64)"
      ]
     },
     "execution_count": 86,
     "metadata": {},
     "output_type": "execute_result"
    }
   ],
   "source": [
    "heatmaps.shape"
   ]
  },
  {
   "cell_type": "code",
   "execution_count": 87,
   "metadata": {},
   "outputs": [
    {
     "data": {
      "image/png": "[encoded data removed]",
      "text/plain": [
       "<Figure size 2000x1000 with 18 Axes>"
      ]
     },
     "metadata": {},
     "output_type": "display_data"
    }
   ],
   "source": [
    "fig, axs = plt.subplots(3,6, figsize = (20,10))\n",
    "for i in range(17):\n",
    "    axs[i//6][i%6].imshow(heatmaps[i])"
   ]
  },
  {
   "cell_type": "code",
   "execution_count": 89,
   "metadata": {},
   "outputs": [
    {
     "data": {
      "text/plain": [
       "<matplotlib.image.AxesImage at 0x7ff8055ef4c0>"
      ]
     },
     "execution_count": 89,
     "metadata": {},
     "output_type": "execute_result"
    },
    {
     "data": {
      "image/png": "[encoded data removed]",
      "text/plain": [
       "<Figure size 640x480 with 1 Axes>"
      ]
     },
     "metadata": {},
     "output_type": "display_data"
    }
   ],
   "source": [
    "plt.imshow(heatmaps.sum(0))"
   ]
  },
  {
   "cell_type": "code",
   "execution_count": null,
   "metadata": {},
   "outputs": [],
   "source": []
  }
 ],
 "metadata": {
  "kernelspec": {
   "display_name": "mypct",
   "language": "python",
   "name": "python3"
  },
  "language_info": {
   "codemirror_mode": {
    "name": "ipython",
    "version": 3
   },
   "file_extension": ".py",
   "mimetype": "text/x-python",
   "name": "python",
   "nbconvert_exporter": "python",
   "pygments_lexer": "ipython3",
   "version": "3.10.14"
  }
 },
 "nbformat": 4,
 "nbformat_minor": 2
}
